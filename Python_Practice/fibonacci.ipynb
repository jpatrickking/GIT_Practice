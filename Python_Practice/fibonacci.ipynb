{
 "cells": [
  {
   "cell_type": "code",
   "execution_count": 1,
   "metadata": {},
   "outputs": [],
   "source": [
    "def fib(n):\n",
    "    if n == 0 or n == 1:\n",
    "        return 1\n",
    "    else:\n",
    "        return fib(n-1) + fib(n-2)\n"
   ]
  },
  {
   "cell_type": "code",
   "execution_count": 2,
   "metadata": {},
   "outputs": [
    {
     "name": "stdout",
     "output_type": "stream",
     "text": [
      "The 0-th fibonacci number is 1\n",
      "The 1-th fibonacci number is 1\n",
      "The 2-th fibonacci number is 2\n",
      "The 3-th fibonacci number is 3\n",
      "The 4-th fibonacci number is 5\n",
      "The 5-th fibonacci number is 8\n",
      "The 6-th fibonacci number is 13\n",
      "The 7-th fibonacci number is 21\n",
      "The 8-th fibonacci number is 34\n",
      "The 9-th fibonacci number is 55\n"
     ]
    }
   ],
   "source": [
    "for i in range(10):\n",
    "    print(f'The {i}-th fibonacci number is {fib(i)}')"
   ]
  },
  {
   "cell_type": "code",
   "execution_count": null,
   "metadata": {},
   "outputs": [],
   "source": []
  }
 ],
 "metadata": {
  "kernelspec": {
   "display_name": "Python 3",
   "language": "python",
   "name": "python3"
  },
  "language_info": {
   "codemirror_mode": {
    "name": "ipython",
    "version": 3
   },
   "file_extension": ".py",
   "mimetype": "text/x-python",
   "name": "python",
   "nbconvert_exporter": "python",
   "pygments_lexer": "ipython3",
   "version": "3.7.1"
  }
 },
 "nbformat": 4,
 "nbformat_minor": 2
}
